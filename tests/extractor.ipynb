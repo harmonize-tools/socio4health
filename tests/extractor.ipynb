{
 "cells": [
  {
   "metadata": {},
   "cell_type": "markdown",
   "source": "# Extracting files from websites and on local disk",
   "id": "ec9977e5da4dac9e"
  },
  {
   "metadata": {},
   "cell_type": "markdown",
   "source": "In first place, we need to install the `socio4health` package.",
   "id": "857243ef4a0ecb40"
  },
  {
   "metadata": {
    "ExecuteTime": {
     "end_time": "2025-06-18T18:47:51.794310Z",
     "start_time": "2025-06-18T18:47:49.719250Z"
    }
   },
   "cell_type": "code",
   "source": "pip install socio4health -q",
   "id": "2714e18ba7a062d2",
   "outputs": [
    {
     "name": "stdout",
     "output_type": "stream",
     "text": [
      "Note: you may need to restart the kernel to use updated packages.\n"
     ]
    }
   ],
   "execution_count": 2
  },
  {
   "metadata": {},
   "cell_type": "markdown",
   "source": "Import the `Extractor` class from the `socio4health` package. This class is used to extract data from various sources, including local files and web URLs. Additionally, we import some enums that define column names and specifications for Brazilian datasets [See `socio4health.enums` module](",
   "id": "faf3dd6306a66665"
  },
  {
   "metadata": {
    "collapsed": true,
    "ExecuteTime": {
     "end_time": "2025-06-18T18:49:33.943961Z",
     "start_time": "2025-06-18T18:49:33.924057Z"
    }
   },
   "cell_type": "code",
   "source": [
    "from socio4health import Extractor\n",
    "from socio4health.enums.data_info_enum import BraColnamesEnum, BraColspecsEnum\n",
    "from socio4health.harmonizer import vertical_merge, drop_nan_columns, get_available_columns\n"
   ],
   "id": "initial_id",
   "outputs": [],
   "execution_count": 6
  }
 ],
 "metadata": {
  "kernelspec": {
   "display_name": "Python 3",
   "language": "python",
   "name": "python3"
  },
  "language_info": {
   "codemirror_mode": {
    "name": "ipython",
    "version": 2
   },
   "file_extension": ".py",
   "mimetype": "text/x-python",
   "name": "python",
   "nbconvert_exporter": "python",
   "pygments_lexer": "ipython2",
   "version": "2.7.6"
  }
 },
 "nbformat": 4,
 "nbformat_minor": 5
}
