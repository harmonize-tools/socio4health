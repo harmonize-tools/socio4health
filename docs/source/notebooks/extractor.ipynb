{
 "cells": [
  {
   "metadata": {},
   "cell_type": "markdown",
   "source": "<img src=\"https://raw.githubusercontent.com/harmonize-tools/socio4health/main/docs/source/_static/image.png\" alt=\"image info\" height=\"100\" width=\"100\"/>\n",
   "id": "caedfce39082790"
  },
  {
   "metadata": {},
   "cell_type": "markdown",
   "source": [
    "\n",
    "\n",
    "# Extraction of Colombia, Brazil and Peru online data"
   ],
   "id": "9d023f72c955dd48"
  },
  {
   "metadata": {},
   "cell_type": "markdown",
   "source": [
    "**Run the tutorial via free cloud platforms:** [![Binder](https://mybinder.org/badge_logo.svg)](https://mybinder.org/v2/gh/harmonize-tools/socio4health/HEAD?urlpath=%2Fdoc%2Ftree%2Fdocs%2Fsource%2Fnotebooks%2Fextractor.ipynb) <a target=\"_blank\" href=\"https://colab.research.google.com/github/harmonize-tools/socio4health/blob/main/docs/source/notebooks/extractor.ipynb\">\n",
    "  <img src=\"https://colab.research.google.com/assets/colab-badge.svg\" alt=\"Open In Colab\"/>\n",
    "</a>\n",
    "\n"
   ],
   "id": "6da3297d49a7570d"
  },
  {
   "metadata": {},
   "cell_type": "markdown",
   "source": [
    "This notebook provides you with an introduction on how to retrieve data from online data sources through **web scraping**, as well as from local files from **Colombia**, **Brazil**, **Peru**, and the **Dominican Republic**. This tutorial assumes you have an **intermediate** or **advanced** understanding of **Python** and data manipulation.\n",
    "\n",
    "## Setting up the environment\n",
    "\n",
    "To run this notebook, you need to have the following prerequisites:\n",
    "\n",
    "- **Python 3.10+**\n",
    "\n",
    "Additionally, you need to install the `socio4health` and `pandas` package, which can be done using ``pip``:\n",
    "\n"
   ],
   "id": "fb77fa154cef0f55"
  },
  {
   "metadata": {},
   "cell_type": "code",
   "outputs": [],
   "execution_count": null,
   "source": "!pip install socio4health pandas -q",
   "id": "9abffc345c4f2a92"
  },
  {
   "metadata": {},
   "cell_type": "markdown",
   "source": [
    "## Import Libraries\n",
    "\n",
    "To perform the data extraction, the `socio4health` library provides the `Extractor` class for data extraction, and the `Harmonizer` class for data harmonization of the retrieved date. We will also use `pandas` for data manipulation.\n"
   ],
   "id": "f4fe1fa351acde3d"
  },
  {
   "metadata": {},
   "cell_type": "code",
   "outputs": [],
   "execution_count": null,
   "source": [
    "\n",
    "from socio4health import Extractor\n",
    "from socio4health.enums.data_info_enum import BraColnamesEnum, BraColspecsEnum\n"
   ],
   "id": "2005422ebb15c462"
  },
  {
   "metadata": {},
   "cell_type": "markdown",
   "source": [
    "## Use case 1: Extracting data from Colombia\n",
    "\n",
    "To extract data from Colombia, we will use the `Extractor` class from the `socio4health` library. The `Extractor` class provides methods to retrieve data from various sources, including online databases and local files. In this example, we will extract the Large Integrated Household Survey - GEIH - 2022 (Gran Encuesta Integrada de Hogares - **GEIH** - 2022) dataset  from the Colombian Nacional Administration of Statistics (**DANE**) website"
   ],
   "id": "d9433843281038d3"
  },
  {
   "metadata": {},
   "cell_type": "markdown",
   "source": [
    "**Run the tutorial via free cloud platforms:** [![Binder](https://mybinder.org/badge_logo.svg)](https://mybinder.org/v2/gh/harmonize-tools/socio4health/HEAD?urlpath=%2Fdoc%2Ftree%2Fdocs%2Fsource%2Fnotebooks%2Fextractor.ipynb) <a target=\"_blank\" href=\"https://colab.research.google.com/github/harmonize-tools/socio4health/blob/main/docs/source/notebooks/extractor.ipynb\">\n",
    "  <img src=\"https://colab.research.google.com/assets/colab-badge.svg\" alt=\"Open In Colab\"/>\n",
    "</a>\n",
    "\n",
    "\n",
    "The `Extractor` class requires the following parameters:\n",
    "- `input_path`: The `URL` or local path to the data source.\n",
    "- `down_ext`: A list of file extensions to download. This can include `.CSV`, `.csv`, `.zip`, etc.\n",
    "- `sep`: The separator used in the data files (e.g., `;` for semicolon-separated values).\n",
    "- `output_path`: The local path where the extracted data will be saved.\n",
    "- `depth`: The depth of the directory structure to traverse when downloading files. A depth of `0` means only the files in the specified directory will be downloaded.\n"
   ],
   "id": "b50ed214470f9d0a"
  },
  {
   "metadata": {},
   "cell_type": "code",
   "outputs": [],
   "execution_count": null,
   "source": "col_online_extractor = Extractor(input_path=\"https://microdatos.dane.gov.co/index.php/catalog/771/get-microdata\", down_ext=['.CSV','.csv','.zip'], sep=';', output_path=\"../data\", depth=0)",
   "id": "e1a1f86f3ab5d185"
  },
  {
   "metadata": {},
   "cell_type": "markdown",
   "source": "After the instance is set up, we can call the `extract` method to download and extract the data. The method returns a list of `pandas` DataFrames containing the extracted data.",
   "id": "7f67e91e5c10640"
  },
  {
   "metadata": {},
   "cell_type": "code",
   "outputs": [],
   "execution_count": null,
   "source": "col_dfs = col_online_extractor.extract()",
   "id": "6f4a44e349f461e5"
  },
  {
   "metadata": {},
   "cell_type": "markdown",
   "source": [
    "## Use case 2: Extracting data from Brazil\n",
    "\n",
    "We are downloading the Brazilian data from the Brazilian Institute of Geography and Statistics (**IBGE**) website. The `Extractor` class is used to download the data. In this case, we are extracting the Brazilian National Continuous Household Sample Survey (**PNADC**) for the year 2024\n",
    "\n"
   ],
   "id": "4c34d27d4f475406"
  },
  {
   "metadata": {},
   "cell_type": "markdown",
   "source": [
    "<div style=\"border-left: 4px solid #e74c3c; background: #fdecea; color: #222; padding: 0.5em 1em; margin: 1em 0; display: flex; align-items: center;\">\n",
    "  <span style=\"font-size: 20px; margin-right: 10px;\">⚠️</span>\n",
    "  <div>\n",
    "    <strong>Important:</strong> <code>is_fwf</code> parameter is set to <code>True</code>, which indicates that the data files are in fixed-width format. The <code>colnames</code> and <code>colspecs</code> parameters must be provided. In this example, they are set to the corresponding available enums for <strong> PNADC </strong> data, which define the column names and specifications for the dataset.\n",
    "    See more details in\n",
    "    <a href=\"https://harmonize-tools.github.io/socio4health/socio4health.enums.html#module-socio4health.enums.data_info_enum\" target=\"_blank\">\n",
    "      socio4health.enums.data_info_enum documentation\n",
    "    </a>.\n",
    "  </div>\n",
    "</div>"
   ],
   "id": "23e82c1d06bb2a51"
  },
  {
   "metadata": {},
   "cell_type": "code",
   "outputs": [],
   "execution_count": null,
   "source": [
    "bra_online_extractor = Extractor(input_path=\"https://ftp.ibge.gov.br/Trabalho_e_Rendimento/Pesquisa_Nacional_por_Amostra_de_Domicilios_continua/Trimestral/Microdados/2024/\", down_ext=['.txt','.zip'], is_fwf=True, colnames=BraColnamesEnum.PNADC.value, colspecs=BraColspecsEnum.PNADC.value, output_path=\"../data\", depth=0)\n",
    "\n",
    "bra_dfs = bra_online_extractor.extract()\n"
   ],
   "id": "199a6b581bcd7925"
  },
  {
   "metadata": {},
   "cell_type": "markdown",
   "source": [
    "\n",
    "## Use case 3: Extracting data from Peru\n",
    "\n",
    "Peruvian data is extracted from the National Institute of Statistics and Informatics (**INEI**) website. In this case, we are extracting the National Household Survey (**ENAHO**) for the year 2022. The `down_ext` parameter is set to download `.csv` and `.zip` files, and the `sep` parameter is set to `;`, indicating that the data files are semicolon-separated values."
   ],
   "id": "f7cd396d725d04bb"
  },
  {
   "metadata": {},
   "cell_type": "code",
   "outputs": [],
   "execution_count": null,
   "source": [
    "per_online_extractor = Extractor(input_path=\"https://www.inei.gob.pe/media/DATOS_ABIERTOS/ENAHO/DATA/2022.zip\", down_ext=['.csv','.zip'], output_path=\"../data\", depth=0)\n",
    "\n",
    "per_dfs = per_online_extractor.extract()"
   ],
   "id": "b60d445351f2be72"
  },
  {
   "metadata": {},
   "cell_type": "markdown",
   "source": [
    "\n",
    "## Further steps\n",
    "* Harmonize the extracted data using the `Harmonizer` class from the `socio4health` library. You can follow the [Harmonization tutorial](https://harmonize-tools.github.io/socio4health/notebooks/harmonization.html) for more details."
   ],
   "id": "cb61738179b2b70c"
  }
 ],
 "metadata": {
  "kernelspec": {
   "display_name": "Python 3",
   "language": "python",
   "name": "python3"
  },
  "language_info": {
   "codemirror_mode": {
    "name": "ipython",
    "version": 2
   },
   "file_extension": ".py",
   "mimetype": "text/x-python",
   "name": "python",
   "nbconvert_exporter": "python",
   "pygments_lexer": "ipython2",
   "version": "2.7.6"
  }
 },
 "nbformat": 4,
 "nbformat_minor": 5
}
